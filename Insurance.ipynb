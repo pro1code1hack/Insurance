{
 "cells": [
  {
   "cell_type": "code",
   "execution_count": 1,
   "id": "fcb38aa4",
   "metadata": {},
   "outputs": [],
   "source": [
    "import numpy as np\n",
    "import pandas as pd\n",
    "import seaborn as sns\n",
    "import matplotlib.pyplot as plt\n",
    "from sklearn.preprocessing import LabelEncoder, OneHotEncoder\n",
    "from sklearn.tree import DecisionTreeClassifier \n",
    "from sklearn.metrics import accuracy_score\n",
    "from sklearn.model_selection import train_test_split\n",
    "from catboost import CatBoostRegressor\n",
    "from sklearn.metrics import mean_absolute_error, mean_squared_error"
   ]
  },
  {
   "cell_type": "code",
   "execution_count": 2,
   "id": "308cecdf",
   "metadata": {},
   "outputs": [
    {
     "data": {
      "text/plain": [
       "\"\\nUse the information about the health insurance company's clients (available here) and create\\na regression model to predict the costs of the insured's medical expenses.\\n\""
      ]
     },
     "execution_count": 2,
     "metadata": {},
     "output_type": "execute_result"
    }
   ],
   "source": [
    "\"\"\"\n",
    "Use the information about the health insurance company's clients (available here) and create\n",
    "a regression model to predict the costs of the insured's medical expenses.\n",
    "\"\"\""
   ]
  },
  {
   "cell_type": "code",
   "execution_count": 3,
   "id": "2e6213a0",
   "metadata": {},
   "outputs": [],
   "source": [
    "data = pd.read_csv('insurance.csv')"
   ]
  },
  {
   "cell_type": "code",
   "execution_count": 4,
   "id": "055b4bec",
   "metadata": {},
   "outputs": [
    {
     "data": {
      "text/html": [
       "<div>\n",
       "<style scoped>\n",
       "    .dataframe tbody tr th:only-of-type {\n",
       "        vertical-align: middle;\n",
       "    }\n",
       "\n",
       "    .dataframe tbody tr th {\n",
       "        vertical-align: top;\n",
       "    }\n",
       "\n",
       "    .dataframe thead th {\n",
       "        text-align: right;\n",
       "    }\n",
       "</style>\n",
       "<table border=\"1\" class=\"dataframe\">\n",
       "  <thead>\n",
       "    <tr style=\"text-align: right;\">\n",
       "      <th></th>\n",
       "      <th>age</th>\n",
       "      <th>sex</th>\n",
       "      <th>bmi</th>\n",
       "      <th>children</th>\n",
       "      <th>smoker</th>\n",
       "      <th>region</th>\n",
       "      <th>charges</th>\n",
       "    </tr>\n",
       "  </thead>\n",
       "  <tbody>\n",
       "    <tr>\n",
       "      <th>0</th>\n",
       "      <td>19</td>\n",
       "      <td>female</td>\n",
       "      <td>27.900</td>\n",
       "      <td>0</td>\n",
       "      <td>yes</td>\n",
       "      <td>southwest</td>\n",
       "      <td>16884.92400</td>\n",
       "    </tr>\n",
       "    <tr>\n",
       "      <th>1</th>\n",
       "      <td>18</td>\n",
       "      <td>male</td>\n",
       "      <td>33.770</td>\n",
       "      <td>1</td>\n",
       "      <td>no</td>\n",
       "      <td>southeast</td>\n",
       "      <td>1725.55230</td>\n",
       "    </tr>\n",
       "    <tr>\n",
       "      <th>2</th>\n",
       "      <td>28</td>\n",
       "      <td>male</td>\n",
       "      <td>33.000</td>\n",
       "      <td>3</td>\n",
       "      <td>no</td>\n",
       "      <td>southeast</td>\n",
       "      <td>4449.46200</td>\n",
       "    </tr>\n",
       "    <tr>\n",
       "      <th>3</th>\n",
       "      <td>33</td>\n",
       "      <td>male</td>\n",
       "      <td>22.705</td>\n",
       "      <td>0</td>\n",
       "      <td>no</td>\n",
       "      <td>northwest</td>\n",
       "      <td>21984.47061</td>\n",
       "    </tr>\n",
       "    <tr>\n",
       "      <th>4</th>\n",
       "      <td>32</td>\n",
       "      <td>male</td>\n",
       "      <td>28.880</td>\n",
       "      <td>0</td>\n",
       "      <td>no</td>\n",
       "      <td>northwest</td>\n",
       "      <td>3866.85520</td>\n",
       "    </tr>\n",
       "  </tbody>\n",
       "</table>\n",
       "</div>"
      ],
      "text/plain": [
       "   age     sex     bmi  children smoker     region      charges\n",
       "0   19  female  27.900         0    yes  southwest  16884.92400\n",
       "1   18    male  33.770         1     no  southeast   1725.55230\n",
       "2   28    male  33.000         3     no  southeast   4449.46200\n",
       "3   33    male  22.705         0     no  northwest  21984.47061\n",
       "4   32    male  28.880         0     no  northwest   3866.85520"
      ]
     },
     "execution_count": 4,
     "metadata": {},
     "output_type": "execute_result"
    }
   ],
   "source": [
    "data.head()"
   ]
  },
  {
   "cell_type": "code",
   "execution_count": 5,
   "id": "7c2ae92b",
   "metadata": {},
   "outputs": [
    {
     "name": "stdout",
     "output_type": "stream",
     "text": [
      "<class 'pandas.core.frame.DataFrame'>\n",
      "RangeIndex: 1338 entries, 0 to 1337\n",
      "Data columns (total 7 columns):\n",
      " #   Column    Non-Null Count  Dtype  \n",
      "---  ------    --------------  -----  \n",
      " 0   age       1338 non-null   int64  \n",
      " 1   sex       1338 non-null   object \n",
      " 2   bmi       1338 non-null   float64\n",
      " 3   children  1338 non-null   int64  \n",
      " 4   smoker    1338 non-null   object \n",
      " 5   region    1338 non-null   object \n",
      " 6   charges   1338 non-null   float64\n",
      "dtypes: float64(2), int64(2), object(3)\n",
      "memory usage: 73.3+ KB\n"
     ]
    }
   ],
   "source": [
    "data.info()   # object --> strings/lists/tuples"
   ]
  },
  {
   "cell_type": "code",
   "execution_count": 6,
   "id": "292ebf96",
   "metadata": {},
   "outputs": [
    {
     "data": {
      "text/plain": [
       "<AxesSubplot:>"
      ]
     },
     "execution_count": 6,
     "metadata": {},
     "output_type": "execute_result"
    },
    {
     "data": {
      "image/png": "[encoded data removed]",
      "text/plain": [
       "<Figure size 432x288 with 1 Axes>"
      ]
     },
     "metadata": {
      "needs_background": "light"
     },
     "output_type": "display_data"
    }
   ],
   "source": [
    "data.age.hist()"
   ]
  },
  {
   "cell_type": "code",
   "execution_count": 7,
   "id": "4be8c861",
   "metadata": {},
   "outputs": [
    {
     "data": {
      "text/plain": [
       "18    0.051570\n",
       "19    0.050822\n",
       "50    0.021674\n",
       "51    0.021674\n",
       "47    0.021674\n",
       "46    0.021674\n",
       "45    0.021674\n",
       "20    0.021674\n",
       "48    0.021674\n",
       "52    0.021674\n",
       "22    0.020927\n",
       "49    0.020927\n",
       "54    0.020927\n",
       "53    0.020927\n",
       "21    0.020927\n",
       "26    0.020927\n",
       "24    0.020927\n",
       "25    0.020927\n",
       "28    0.020927\n",
       "27    0.020927\n",
       "23    0.020927\n",
       "43    0.020179\n",
       "29    0.020179\n",
       "30    0.020179\n",
       "41    0.020179\n",
       "42    0.020179\n",
       "44    0.020179\n",
       "31    0.020179\n",
       "40    0.020179\n",
       "32    0.019432\n",
       "33    0.019432\n",
       "56    0.019432\n",
       "34    0.019432\n",
       "55    0.019432\n",
       "57    0.019432\n",
       "37    0.018685\n",
       "59    0.018685\n",
       "58    0.018685\n",
       "36    0.018685\n",
       "38    0.018685\n",
       "35    0.018685\n",
       "39    0.018685\n",
       "61    0.017190\n",
       "60    0.017190\n",
       "63    0.017190\n",
       "62    0.017190\n",
       "64    0.016442\n",
       "Name: age, dtype: float64"
      ]
     },
     "execution_count": 7,
     "metadata": {},
     "output_type": "execute_result"
    }
   ],
   "source": [
    "data.age.value_counts(normalize=True)"
   ]
  },
  {
   "cell_type": "code",
   "execution_count": 8,
   "id": "3396c3f5",
   "metadata": {},
   "outputs": [],
   "source": [
    "def class_bar(data, sign, x=8, y=5):\n",
    "    \"\"\"\n",
    "    The function is used for drawing the categorial distribution  \n",
    "    \"\"\"\n",
    "    df = data.copy()\n",
    "    df_row = (df[sign].value_counts(normalize = True) * 100).reset_index()\n",
    " \n",
    " \n",
    "    plt.gcf().set_size_inches(x, y)\n",
    "    plt.rcParams.update({'font.size': 11})\n",
    "    sns.barplot(x = 'index', y = sign, data = df_row, edgecolor='.1', saturation = 1)\n",
    "    for index, row_text in df_row.iterrows():\n",
    "            plt.text(index, row_text[sign] * 1.01, '{}%'.format(round(row_text[sign], 1)), color = 'black', ha = 'center')\n",
    " \n",
    " \n",
    "    plt.ylim([0, 250])\n",
    "    plt.grid(axis = 'y')\n",
    "    plt.xlabel('Class')\n",
    "    plt.ylabel('Part of class (%)')\n",
    "    plt.title(f'Diagram of class balance: {sign}')\n",
    "    plt.show()"
   ]
  },
  {
   "cell_type": "code",
   "execution_count": 9,
   "id": "eed57c85",
   "metadata": {},
   "outputs": [
    {
     "name": "stdout",
     "output_type": "stream",
     "text": [
      "<class 'pandas.core.frame.DataFrame'>\n",
      "RangeIndex: 1338 entries, 0 to 1337\n",
      "Data columns (total 7 columns):\n",
      " #   Column    Non-Null Count  Dtype  \n",
      "---  ------    --------------  -----  \n",
      " 0   age       1338 non-null   int64  \n",
      " 1   sex       1338 non-null   object \n",
      " 2   bmi       1338 non-null   float64\n",
      " 3   children  1338 non-null   int64  \n",
      " 4   smoker    1338 non-null   object \n",
      " 5   region    1338 non-null   object \n",
      " 6   charges   1338 non-null   float64\n",
      "dtypes: float64(2), int64(2), object(3)\n",
      "memory usage: 73.3+ KB\n"
     ]
    }
   ],
   "source": [
    "data.info()   # object --> strings/lists/tuples"
   ]
  },
  {
   "cell_type": "code",
   "execution_count": 10,
   "id": "787a2a2c-988e-445a-a8ac-a32e7ac6f6ae",
   "metadata": {},
   "outputs": [
    {
     "data": {
      "image/png": "[encoded data removed]",
      "text/plain": [
       "<Figure size 576x360 with 1 Axes>"
      ]
     },
     "metadata": {
      "needs_background": "light"
     },
     "output_type": "display_data"
    }
   ],
   "source": [
    "class_bar(data, 'sex')"
   ]
  },
  {
   "cell_type": "code",
   "execution_count": 11,
   "id": "41bd6770-5025-450c-a96f-e145d0b7add3",
   "metadata": {},
   "outputs": [
    {
     "data": {
      "image/png": "[encoded data removed]",
      "text/plain": [
       "<Figure size 576x360 with 1 Axes>"
      ]
     },
     "metadata": {
      "needs_background": "light"
     },
     "output_type": "display_data"
    }
   ],
   "source": [
    "class_bar(data, 'smoker') "
   ]
  },
  {
   "cell_type": "code",
   "execution_count": 12,
   "id": "5810790f-386d-480b-a3dc-7b3ebccc3237",
   "metadata": {},
   "outputs": [
    {
     "data": {
      "image/png": "[encoded data removed]",
      "text/plain": [
       "<Figure size 576x360 with 1 Axes>"
      ]
     },
     "metadata": {
      "needs_background": "light"
     },
     "output_type": "display_data"
    }
   ],
   "source": [
    "class_bar(data, 'region') "
   ]
  },
  {
   "cell_type": "code",
   "execution_count": 13,
   "id": "352abb02-fc72-4ea0-b020-67a5de15a54a",
   "metadata": {},
   "outputs": [],
   "source": [
    "features = data.drop(columns= ['charges'])\n",
    "# we have the target variable - exactly the column we want to predict, \n",
    "# and the features --> is the list of columns we have to use for teaching the model\n",
    "target = data['charges'] \n",
    "features_train, features_test, target_train, target_test = train_test_split(features, target,test_size = 0.2, train_size=0.8, random_state=999)"
   ]
  },
  {
   "cell_type": "code",
   "execution_count": 14,
   "id": "cbf757f0-c646-48c1-b361-c5bc4af8e26d",
   "metadata": {},
   "outputs": [],
   "source": [
    "category_list = ['sex', 'region','smoker'] # is the caterogy\n",
    "model = CatBoostRegressor(iterations=1000, verbose=100)"
   ]
  },
  {
   "cell_type": "code",
   "execution_count": 15,
   "id": "8528e9a6-456d-4f08-925b-32ccb7df0e79",
   "metadata": {},
   "outputs": [
    {
     "name": "stdout",
     "output_type": "stream",
     "text": [
      "Learning rate set to 0.041383\n",
      "0:\tlearn: 11724.3475340\ttotal: 57.4ms\tremaining: 57.4s\n",
      "100:\tlearn: 4254.8374539\ttotal: 162ms\tremaining: 1.44s\n",
      "200:\tlearn: 4023.0743859\ttotal: 294ms\tremaining: 1.17s\n",
      "300:\tlearn: 3837.2057071\ttotal: 413ms\tremaining: 958ms\n",
      "400:\tlearn: 3674.7259807\ttotal: 527ms\tremaining: 788ms\n",
      "500:\tlearn: 3545.7253038\ttotal: 656ms\tremaining: 653ms\n",
      "600:\tlearn: 3421.2593889\ttotal: 772ms\tremaining: 512ms\n",
      "700:\tlearn: 3309.2298442\ttotal: 885ms\tremaining: 378ms\n",
      "800:\tlearn: 3199.4548759\ttotal: 1s\tremaining: 250ms\n",
      "900:\tlearn: 3091.0058338\ttotal: 1.14s\tremaining: 125ms\n",
      "999:\tlearn: 2994.0050487\ttotal: 1.26s\tremaining: 0us\n"
     ]
    },
    {
     "data": {
      "text/plain": [
       "<catboost.core.CatBoostRegressor at 0x7fc30a3af9d0>"
      ]
     },
     "execution_count": 15,
     "metadata": {},
     "output_type": "execute_result"
    }
   ],
   "source": [
    "model.fit(features_train, target_train,cat_features=category_list)"
   ]
  },
  {
   "cell_type": "code",
   "execution_count": 16,
   "id": "65a3f6ba-23ac-4078-a7bf-d8de6e76d04b",
   "metadata": {},
   "outputs": [
    {
     "data": {
      "image/png": "[encoded data removed]",
      "text/plain": [
       "<Figure size 432x288 with 1 Axes>"
      ]
     },
     "metadata": {
      "needs_background": "light"
     },
     "output_type": "display_data"
    }
   ],
   "source": [
    "# gradient boosting - a lot of trees --> checking params according to previous tree\n",
    "# easy algorrithm\n",
    "# here we are checking useful and useless parametrs for the model in this case we can drop sex, children and region\n",
    "# params, because the main model \n",
    "importances = model.feature_importances_ # \n",
    "feature_names = features.columns\n",
    "forest_importances = pd.Series(importances, index=feature_names)\n",
    "fig, ax = plt.subplots()\n",
    "forest_importances.plot.bar(ax=ax)\n",
    "ax.set_title(\"Feature importances using MDI\")\n",
    "ax.set_ylabel(\"Mean decrease in impurity\")\n",
    "fig.tight_layout()"
   ]
  },
  {
   "cell_type": "code",
   "execution_count": 17,
   "id": "f06b32ee-61b4-4d96-afb6-9be22b809b5c",
   "metadata": {},
   "outputs": [],
   "source": [
    "predictions = model.predict(features_test) #analogy with school"
   ]
  },
  {
   "cell_type": "markdown",
   "id": "ec1c6f3b-16ce-4b9d-9368-9b2731ce0b1c",
   "metadata": {},
   "source": [
    "<div class=\"iy iz ja jb jc\"><h2 id=\"d44a\" class=\"tj tk jf bn tl nk tm nl nn no tn np nr ld to ns nu lh tp nv nx ll tq ny oa tr gb\" data-selectable-paragraph=\"\">Definitions</h2><p id=\"0be7\" class=\"pw-post-body-paragraph ku kv jf kw b kx ts kg kz la tt kj lc ld tu lf lg lh tv lj lk ll tw ln lo lp iy gb\" data-selectable-paragraph=\"\"><strong class=\"kw jg\">Mean Absolute Error (MAE): </strong>MAE measures the average magnitude of the errors in a set of predictions, without considering their direction. It’s the average over the test sample of the absolute differences between prediction and actual observation where all individual differences have equal weight.</p><figure class=\"ty tz ua ub gy uc gm gn paragraph-image\"><div class=\"gm gn tx\"><img alt=\"\" class=\"cf of ud\" src=\"https://miro.medium.com/max/315/1*OVlFLnMwHDx08PHzqlBDag.gif\" width=\"315\" height=\"90\" loading=\"lazy\" role=\"presentation\"></div></figure><p id=\"d504\" class=\"pw-post-body-paragraph ku kv jf kw b kx ky kg kz la lb kj lc ld le lf lg lh li lj lk ll lm ln lo lp iy gb\" data-selectable-paragraph=\"\"><em class=\"ue\">If the absolute value is not taken (the signs of the errors are not removed), the average error becomes the Mean Bias Error (MBE) and is usually intended to measure average model bias. MBE can convey useful information, but should be interpreted cautiously because positive and negative errors will cancel out.</em></p><p id=\"1d7f\" class=\"pw-post-body-paragraph ku kv jf kw b kx ky kg kz la lb kj lc ld le lf lg lh li lj lk ll lm ln lo lp iy gb\" data-selectable-paragraph=\"\"><strong class=\"kw jg\">Root mean squared error (RMSE)</strong>: RMSE is a quadratic scoring rule that also measures the average magnitude of the error. It’s the square root of the average of squared differences between prediction and actual observation.</p><figure class=\"ty tz ua ub gy uc gm gn paragraph-image\"><div class=\"gm gn uf\"><img alt=\"\" class=\"cf of ud\" src=\"https://miro.medium.com/max/327/1*9hQVcasuwx5ddq_s3MFCyw.gif\" width=\"327\" height=\"90\" loading=\"lazy\" role=\"presentation\"></div></figure></div>"
   ]
  },
  {
   "cell_type": "code",
   "execution_count": 18,
   "id": "24f1e947-0466-4330-84b1-9943f0025e70",
   "metadata": {},
   "outputs": [
    {
     "name": "stdout",
     "output_type": "stream",
     "text": [
      "The mean absolute error:  2662.736849227891\n",
      "The mean:  13270.422265141257\n",
      "Median: 9382.033\n",
      "Checking the rmse metric(with root) 4790.767841557103\n"
     ]
    }
   ],
   "source": [
    "print(\"The mean absolute error: \", mean_absolute_error(target_test, predictions)) #we got the mae metric \n",
    "# comparing target_test comparing with predictions of the model\n",
    "print(\"The mean: \", target.mean())  # the average value of all targets\n",
    "print(\"Median:\", target.median())  # m\n",
    "print(\"Checking the rmse metric(with root)\", mean_squared_error(target_test, predictions)**0.5)"
   ]
  },
  {
   "cell_type": "markdown",
   "id": "47df0a7b-da65-4625-86ee-ae6cf35b96fd",
   "metadata": {},
   "source": [
    "## Based on this data we can make the conclusion that our model predicting not the random values, and it really found  different connections between params"
   ]
  },
  {
   "cell_type": "code",
   "execution_count": 30,
   "id": "2b704fa6-7c4a-4d74-8d0f-31007e1133c6",
   "metadata": {},
   "outputs": [],
   "source": [
    "features_test['predictions'] = predictions.astype(int)"
   ]
  },
  {
   "cell_type": "code",
   "execution_count": 38,
   "id": "b39ac1ef-a529-4ff3-89cc-fc1fe47b4748",
   "metadata": {},
   "outputs": [
    {
     "name": "stdout",
     "output_type": "stream",
     "text": [
      "<class 'pandas.core.frame.DataFrame'>\n",
      "Int64Index: 268 entries, 1276 to 0\n",
      "Data columns (total 7 columns):\n",
      " #   Column       Non-Null Count  Dtype  \n",
      "---  ------       --------------  -----  \n",
      " 0   age          268 non-null    int64  \n",
      " 1   sex          268 non-null    object \n",
      " 2   bmi          268 non-null    float64\n",
      " 3   children     268 non-null    int64  \n",
      " 4   smoker       268 non-null    object \n",
      " 5   region       268 non-null    object \n",
      " 6   predictions  268 non-null    int64  \n",
      "dtypes: float64(1), int64(3), object(3)\n",
      "memory usage: 16.8+ KB\n"
     ]
    },
    {
     "data": {
      "text/html": [
       "<div>\n",
       "<style scoped>\n",
       "    .dataframe tbody tr th:only-of-type {\n",
       "        vertical-align: middle;\n",
       "    }\n",
       "\n",
       "    .dataframe tbody tr th {\n",
       "        vertical-align: top;\n",
       "    }\n",
       "\n",
       "    .dataframe thead th {\n",
       "        text-align: right;\n",
       "    }\n",
       "</style>\n",
       "<table border=\"1\" class=\"dataframe\">\n",
       "  <thead>\n",
       "    <tr style=\"text-align: right;\">\n",
       "      <th></th>\n",
       "      <th>age</th>\n",
       "      <th>sex</th>\n",
       "      <th>bmi</th>\n",
       "      <th>children</th>\n",
       "      <th>smoker</th>\n",
       "      <th>region</th>\n",
       "      <th>predictions</th>\n",
       "    </tr>\n",
       "  </thead>\n",
       "  <tbody>\n",
       "    <tr>\n",
       "      <th>943</th>\n",
       "      <td>19</td>\n",
       "      <td>male</td>\n",
       "      <td>22.610</td>\n",
       "      <td>0</td>\n",
       "      <td>no</td>\n",
       "      <td>northwest</td>\n",
       "      <td>1282</td>\n",
       "    </tr>\n",
       "    <tr>\n",
       "      <th>1251</th>\n",
       "      <td>19</td>\n",
       "      <td>male</td>\n",
       "      <td>19.800</td>\n",
       "      <td>0</td>\n",
       "      <td>no</td>\n",
       "      <td>southwest</td>\n",
       "      <td>1335</td>\n",
       "    </tr>\n",
       "    <tr>\n",
       "      <th>248</th>\n",
       "      <td>19</td>\n",
       "      <td>male</td>\n",
       "      <td>20.900</td>\n",
       "      <td>1</td>\n",
       "      <td>no</td>\n",
       "      <td>southwest</td>\n",
       "      <td>1488</td>\n",
       "    </tr>\n",
       "    <tr>\n",
       "      <th>899</th>\n",
       "      <td>19</td>\n",
       "      <td>female</td>\n",
       "      <td>22.515</td>\n",
       "      <td>0</td>\n",
       "      <td>no</td>\n",
       "      <td>northwest</td>\n",
       "      <td>1594</td>\n",
       "    </tr>\n",
       "    <tr>\n",
       "      <th>1212</th>\n",
       "      <td>18</td>\n",
       "      <td>male</td>\n",
       "      <td>21.470</td>\n",
       "      <td>0</td>\n",
       "      <td>no</td>\n",
       "      <td>northeast</td>\n",
       "      <td>1619</td>\n",
       "    </tr>\n",
       "    <tr>\n",
       "      <th>...</th>\n",
       "      <td>...</td>\n",
       "      <td>...</td>\n",
       "      <td>...</td>\n",
       "      <td>...</td>\n",
       "      <td>...</td>\n",
       "      <td>...</td>\n",
       "      <td>...</td>\n",
       "    </tr>\n",
       "    <tr>\n",
       "      <th>665</th>\n",
       "      <td>43</td>\n",
       "      <td>male</td>\n",
       "      <td>38.060</td>\n",
       "      <td>2</td>\n",
       "      <td>yes</td>\n",
       "      <td>southeast</td>\n",
       "      <td>45747</td>\n",
       "    </tr>\n",
       "    <tr>\n",
       "      <th>1031</th>\n",
       "      <td>55</td>\n",
       "      <td>female</td>\n",
       "      <td>35.200</td>\n",
       "      <td>0</td>\n",
       "      <td>yes</td>\n",
       "      <td>southeast</td>\n",
       "      <td>46023</td>\n",
       "    </tr>\n",
       "    <tr>\n",
       "      <th>109</th>\n",
       "      <td>63</td>\n",
       "      <td>male</td>\n",
       "      <td>35.090</td>\n",
       "      <td>0</td>\n",
       "      <td>yes</td>\n",
       "      <td>southeast</td>\n",
       "      <td>46447</td>\n",
       "    </tr>\n",
       "    <tr>\n",
       "      <th>951</th>\n",
       "      <td>51</td>\n",
       "      <td>male</td>\n",
       "      <td>42.900</td>\n",
       "      <td>2</td>\n",
       "      <td>yes</td>\n",
       "      <td>southeast</td>\n",
       "      <td>47242</td>\n",
       "    </tr>\n",
       "    <tr>\n",
       "      <th>55</th>\n",
       "      <td>58</td>\n",
       "      <td>male</td>\n",
       "      <td>36.955</td>\n",
       "      <td>2</td>\n",
       "      <td>yes</td>\n",
       "      <td>northwest</td>\n",
       "      <td>49018</td>\n",
       "    </tr>\n",
       "  </tbody>\n",
       "</table>\n",
       "<p>268 rows × 7 columns</p>\n",
       "</div>"
      ],
      "text/plain": [
       "      age     sex     bmi  children smoker     region  predictions\n",
       "943    19    male  22.610         0     no  northwest         1282\n",
       "1251   19    male  19.800         0     no  southwest         1335\n",
       "248    19    male  20.900         1     no  southwest         1488\n",
       "899    19  female  22.515         0     no  northwest         1594\n",
       "1212   18    male  21.470         0     no  northeast         1619\n",
       "...   ...     ...     ...       ...    ...        ...          ...\n",
       "665    43    male  38.060         2    yes  southeast        45747\n",
       "1031   55  female  35.200         0    yes  southeast        46023\n",
       "109    63    male  35.090         0    yes  southeast        46447\n",
       "951    51    male  42.900         2    yes  southeast        47242\n",
       "55     58    male  36.955         2    yes  northwest        49018\n",
       "\n",
       "[268 rows x 7 columns]"
      ]
     },
     "execution_count": 38,
     "metadata": {},
     "output_type": "execute_result"
    }
   ],
   "source": [
    "features_test.info()\n",
    "features_test.sort_values('predictions')"
   ]
  }
 ],
 "metadata": {
  "kernelspec": {
   "display_name": "Python 3 (ipykernel)",
   "language": "python",
   "name": "python3"
  },
  "language_info": {
   "codemirror_mode": {
    "name": "ipython",
    "version": 3
   },
   "file_extension": ".py",
   "mimetype": "text/x-python",
   "name": "python",
   "nbconvert_exporter": "python",
   "pygments_lexer": "ipython3",
   "version": "3.8.10"
  }
 },
 "nbformat": 4,
 "nbformat_minor": 5
}
